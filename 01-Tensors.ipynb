{
 "cells": [
  {
   "cell_type": "markdown",
   "metadata": {},
   "source": [
    "# Tensors and Jupyter tricks\n",
    "\n",
    "Based on notebook 01 from NYU DS-GA 1008"
   ]
  },
  {
   "cell_type": "code",
   "execution_count": 1,
   "metadata": {},
   "outputs": [],
   "source": [
    "import torch"
   ]
  },
  {
   "cell_type": "code",
   "execution_count": 4,
   "metadata": {},
   "outputs": [],
   "source": [
    "# See available classes using ? and a wildcard \n",
    "torch.*Tensor? # Press ESC to exit"
   ]
  },
  {
   "cell_type": "code",
   "execution_count": 7,
   "metadata": {},
   "outputs": [],
   "source": [
    "# Pull up documentation\n",
    "torch.nn.Module?"
   ]
  },
  {
   "cell_type": "code",
   "execution_count": 9,
   "metadata": {},
   "outputs": [
    {
     "name": "stdout",
     "output_type": "stream",
     "text": [
      "total 72\r\n",
      "-rw-r--r--@ 1 benjaminbasseri  staff    31K Mar 27 11:59 00-NeuralNets.ipynb\r\n",
      "-rw-r--r--@ 1 benjaminbasseri  staff   1.4K Mar 27 18:24 01-Tensors.ipynb\r\n"
     ]
    }
   ],
   "source": [
    "## Dropping into Bash\n",
    "!ls -lh"
   ]
  },
  {
   "cell_type": "code",
   "execution_count": 13,
   "metadata": {},
   "outputs": [
    {
     "name": "stdout",
     "output_type": "stream",
     "text": [
      "485 00-NeuralNets.ipynb\n",
      "79 01-Tensors.ipynb\n"
     ]
    }
   ],
   "source": [
    "%%bash\n",
    "# bash script in jupyter\n",
    "for f in $(ls *.*); do\n",
    "    echo $(wc -l $f)\n",
    "done"
   ]
  },
  {
   "cell_type": "markdown",
   "metadata": {},
   "source": [
    "## Tensors"
   ]
  },
  {
   "cell_type": "code",
   "execution_count": 15,
   "metadata": {},
   "outputs": [
    {
     "data": {
      "text/plain": [
       "torch.Tensor"
      ]
     },
     "execution_count": 15,
     "metadata": {},
     "output_type": "execute_result"
    }
   ],
   "source": [
    "# creates a 2x3x4 tensor\n",
    "t = torch.Tensor(2, 3, 4) \n",
    "type(t)"
   ]
  },
  {
   "cell_type": "code",
   "execution_count": 16,
   "metadata": {},
   "outputs": [
    {
     "data": {
      "text/plain": [
       "torch.Size([2, 3, 4])"
      ]
     },
     "execution_count": 16,
     "metadata": {},
     "output_type": "execute_result"
    }
   ],
   "source": [
    "t.size()"
   ]
  },
  {
   "cell_type": "code",
   "execution_count": 17,
   "metadata": {},
   "outputs": [
    {
     "name": "stdout",
     "output_type": "stream",
     "text": [
      "t size: 2 × 3 × 4\n"
     ]
    }
   ],
   "source": [
    "print('t size:', ' \\u00D7 '.join(map(str, t.size())))"
   ]
  },
  {
   "cell_type": "code",
   "execution_count": 19,
   "metadata": {},
   "outputs": [
    {
     "name": "stdout",
     "output_type": "stream",
     "text": [
      "point in a 24 dimensional space\n",
      "organized in 3 sub-dimensions\n"
     ]
    }
   ],
   "source": [
    "print(f'point in a {t.numel()} dimensional space')\n",
    "print(f'organized in {t.dim()} sub-dimensions')"
   ]
  },
  {
   "cell_type": "code",
   "execution_count": 22,
   "metadata": {},
   "outputs": [
    {
     "data": {
      "text/plain": [
       "tensor([[[0.0000e+00, 0.0000e+00, 1.4013e-45, 0.0000e+00],\n",
       "         [0.0000e+00, 0.0000e+00, 0.0000e+00, 0.0000e+00],\n",
       "         [0.0000e+00, 0.0000e+00, 0.0000e+00, 0.0000e+00]],\n",
       "\n",
       "        [[0.0000e+00, 0.0000e+00, 0.0000e+00, 0.0000e+00],\n",
       "         [0.0000e+00, 0.0000e+00, 0.0000e+00, 0.0000e+00],\n",
       "         [1.4013e-45, 0.0000e+00, 1.4013e-45, 0.0000e+00]]])"
      ]
     },
     "execution_count": 22,
     "metadata": {},
     "output_type": "execute_result"
    }
   ],
   "source": [
    "t"
   ]
  },
  {
   "cell_type": "code",
   "execution_count": 23,
   "metadata": {},
   "outputs": [
    {
     "data": {
      "text/plain": [
       "tensor([[[1., 2., 8., 1.],\n",
       "         [3., 3., 7., 6.],\n",
       "         [6., 9., 2., 7.]],\n",
       "\n",
       "        [[2., 6., 8., 6.],\n",
       "         [6., 5., 2., 9.],\n",
       "         [9., 6., 4., 1.]]])"
      ]
     },
     "execution_count": 23,
     "metadata": {},
     "output_type": "execute_result"
    }
   ],
   "source": [
    "# Operations that mutate tensors in place are postfixed with _\n",
    "t.random_(10)\n",
    "t"
   ]
  },
  {
   "cell_type": "code",
   "execution_count": 24,
   "metadata": {},
   "outputs": [
    {
     "data": {
      "text/plain": [
       "tensor([[1., 2., 8., 1., 3., 3., 7., 6.],\n",
       "        [6., 9., 2., 7., 2., 6., 8., 6.],\n",
       "        [6., 5., 2., 9., 9., 6., 4., 1.]])"
      ]
     },
     "execution_count": 24,
     "metadata": {},
     "output_type": "execute_result"
    }
   ],
   "source": [
    "# Permanently resize tensors\n",
    "r = torch.Tensor(t)\n",
    "r.resize_(3, 8)\n",
    "r"
   ]
  },
  {
   "cell_type": "code",
   "execution_count": 25,
   "metadata": {},
   "outputs": [
    {
     "data": {
      "text/plain": [
       "tensor([[0., 0., 0., 0., 0., 0., 0., 0.],\n",
       "        [0., 0., 0., 0., 0., 0., 0., 0.],\n",
       "        [0., 0., 0., 0., 0., 0., 0., 0.]])"
      ]
     },
     "execution_count": 25,
     "metadata": {},
     "output_type": "execute_result"
    }
   ],
   "source": [
    "# Zero out a tensor in-place\n",
    "r.zero_()"
   ]
  },
  {
   "cell_type": "code",
   "execution_count": 26,
   "metadata": {},
   "outputs": [
    {
     "data": {
      "text/plain": [
       "tensor([[[0., 0., 0., 0.],\n",
       "         [0., 0., 0., 0.],\n",
       "         [0., 0., 0., 0.]],\n",
       "\n",
       "        [[0., 0., 0., 0.],\n",
       "         [0., 0., 0., 0.],\n",
       "         [0., 0., 0., 0.]]])"
      ]
     },
     "execution_count": 26,
     "metadata": {},
     "output_type": "execute_result"
    }
   ],
   "source": [
    "t"
   ]
  },
  {
   "cell_type": "code",
   "execution_count": 27,
   "metadata": {},
   "outputs": [
    {
     "name": "stdout",
     "output_type": "stream",
     "text": [
      "tensor([[1., 1., 1., 1., 1., 1., 1., 1.],\n",
      "        [1., 1., 1., 1., 1., 1., 1., 1.],\n",
      "        [1., 1., 1., 1., 1., 1., 1., 1.]])\n",
      "tensor([[0., 0., 0., 0., 0., 0., 0., 0.],\n",
      "        [0., 0., 0., 0., 0., 0., 0., 0.],\n",
      "        [0., 0., 0., 0., 0., 0., 0., 0.]])\n"
     ]
    }
   ],
   "source": [
    "s = r.clone()\n",
    "s.fill_(1)\n",
    "print(s)\n",
    "print(r)"
   ]
  },
  {
   "cell_type": "markdown",
   "metadata": {},
   "source": [
    "## Vectors"
   ]
  },
  {
   "cell_type": "code",
   "execution_count": 28,
   "metadata": {},
   "outputs": [
    {
     "data": {
      "text/plain": [
       "tensor([1., 2., 3., 4.])"
      ]
     },
     "execution_count": 28,
     "metadata": {},
     "output_type": "execute_result"
    }
   ],
   "source": [
    "v = torch.Tensor([1, 2, 3, 4])\n",
    "v"
   ]
  },
  {
   "cell_type": "code",
   "execution_count": 30,
   "metadata": {},
   "outputs": [
    {
     "name": "stdout",
     "output_type": "stream",
     "text": [
      "dim: 1, size: 4\n"
     ]
    }
   ],
   "source": [
    "print(f'dim: {v.dim()}, size: {v.size()[0]}')"
   ]
  },
  {
   "cell_type": "code",
   "execution_count": 31,
   "metadata": {},
   "outputs": [
    {
     "data": {
      "text/plain": [
       "tensor([1., 0., 2., 0.])"
      ]
     },
     "execution_count": 31,
     "metadata": {},
     "output_type": "execute_result"
    }
   ],
   "source": [
    "w = torch.Tensor([1, 0, 2, 0])\n",
    "w"
   ]
  },
  {
   "cell_type": "code",
   "execution_count": 32,
   "metadata": {},
   "outputs": [
    {
     "data": {
      "text/plain": [
       "tensor([1., 0., 6., 0.])"
      ]
     },
     "execution_count": 32,
     "metadata": {},
     "output_type": "execute_result"
    }
   ],
   "source": [
    "# * operator defined as element-wise multiplication (Hadamard product)\n",
    "v * w"
   ]
  },
  {
   "cell_type": "code",
   "execution_count": 33,
   "metadata": {},
   "outputs": [
    {
     "data": {
      "text/plain": [
       "tensor(7.)"
      ]
     },
     "execution_count": 33,
     "metadata": {},
     "output_type": "execute_result"
    }
   ],
   "source": [
    "# @ operator defined as scalar product (dot product / matrix mult.)\n",
    "v @ w"
   ]
  },
  {
   "cell_type": "code",
   "execution_count": 34,
   "metadata": {},
   "outputs": [
    {
     "data": {
      "text/plain": [
       "tensor([3., 9., 9., 6., 5.])"
      ]
     },
     "execution_count": 34,
     "metadata": {},
     "output_type": "execute_result"
    }
   ],
   "source": [
    "x = torch.Tensor(5).random_(10)\n",
    "x"
   ]
  },
  {
   "cell_type": "code",
   "execution_count": 37,
   "metadata": {},
   "outputs": [
    {
     "name": "stdout",
     "output_type": "stream",
     "text": [
      "first: 3.0, last: 5.0\n"
     ]
    }
   ],
   "source": [
    "# Tensors can be indexed like lists or numpy arrays\n",
    "print(f'first: {x[0]}, last: {x[-1]}')"
   ]
  },
  {
   "cell_type": "code",
   "execution_count": 40,
   "metadata": {},
   "outputs": [
    {
     "data": {
      "text/plain": [
       "tensor([2., 3.])"
      ]
     },
     "execution_count": 40,
     "metadata": {},
     "output_type": "execute_result"
    }
   ],
   "source": [
    "# Extract a sub-tensor (slicing)\n",
    "v[1:3]"
   ]
  },
  {
   "cell_type": "code",
   "execution_count": 41,
   "metadata": {},
   "outputs": [
    {
     "data": {
      "text/plain": [
       "tensor([1, 2, 3, 4])"
      ]
     },
     "execution_count": 41,
     "metadata": {},
     "output_type": "execute_result"
    }
   ],
   "source": [
    "# Create a tensor based on range\n",
    "v = torch.arange(1, 5)\n",
    "v"
   ]
  },
  {
   "cell_type": "code",
   "execution_count": 42,
   "metadata": {},
   "outputs": [
    {
     "name": "stdout",
     "output_type": "stream",
     "text": [
      "tensor([ 1,  8, 27, 64]) tensor([1, 2, 3, 4])\n"
     ]
    }
   ],
   "source": [
    "# Element-wise exponentiation\n",
    "print(v.pow(3), v)"
   ]
  },
  {
   "cell_type": "markdown",
   "metadata": {},
   "source": [
    "## Matrices"
   ]
  },
  {
   "cell_type": "code",
   "execution_count": 43,
   "metadata": {},
   "outputs": [
    {
     "data": {
      "text/plain": [
       "tensor([[2., 5., 3., 7.],\n",
       "        [4., 2., 1., 9.]])"
      ]
     },
     "execution_count": 43,
     "metadata": {},
     "output_type": "execute_result"
    }
   ],
   "source": [
    "# Create a 2x4 tensor\n",
    "m = torch.Tensor([[2, 5, 3, 7],\n",
    "                  [4, 2, 1, 9]])\n",
    "m"
   ]
  },
  {
   "cell_type": "code",
   "execution_count": 44,
   "metadata": {},
   "outputs": [
    {
     "data": {
      "text/plain": [
       "2"
      ]
     },
     "execution_count": 44,
     "metadata": {},
     "output_type": "execute_result"
    }
   ],
   "source": [
    "m.dim()"
   ]
  },
  {
   "cell_type": "code",
   "execution_count": 46,
   "metadata": {},
   "outputs": [
    {
     "name": "stdout",
     "output_type": "stream",
     "text": [
      "2 -- 4 -- torch.Size([2, 4])\n"
     ]
    }
   ],
   "source": [
    "# the 'size' tensor is row x columns\n",
    "print(m.size(0), m.size(1), m.size(), sep=' -- ')"
   ]
  },
  {
   "cell_type": "code",
   "execution_count": 47,
   "metadata": {},
   "outputs": [
    {
     "data": {
      "text/plain": [
       "8"
      ]
     },
     "execution_count": 47,
     "metadata": {},
     "output_type": "execute_result"
    }
   ],
   "source": [
    "# Returns total number of elements, 'num--el'\n",
    "m.numel()"
   ]
  },
  {
   "cell_type": "code",
   "execution_count": 48,
   "metadata": {},
   "outputs": [
    {
     "data": {
      "text/plain": [
       "tensor(3.)"
      ]
     },
     "execution_count": 48,
     "metadata": {},
     "output_type": "execute_result"
    }
   ],
   "source": [
    "# Indexing\n",
    "m[0][2]"
   ]
  },
  {
   "cell_type": "code",
   "execution_count": 50,
   "metadata": {},
   "outputs": [
    {
     "data": {
      "text/plain": [
       "tensor(3.)"
      ]
     },
     "execution_count": 50,
     "metadata": {},
     "output_type": "execute_result"
    }
   ],
   "source": [
    "# Indexing an entry still returns a tensor\n",
    "m[0, 2]"
   ]
  },
  {
   "cell_type": "code",
   "execution_count": 58,
   "metadata": {},
   "outputs": [
    {
     "name": "stdout",
     "output_type": "stream",
     "text": [
      "tensor([5., 2.])\n",
      "tensor([[5.],\n",
      "        [2.]])\n",
      "tensor([[2., 5., 3., 7.]])\n",
      "tensor([2., 5., 3., 7.])\n"
     ]
    }
   ],
   "source": [
    "# Numpy style col-row indexing\n",
    "print(m[:, 1]) # 1x2\n",
    "print(m[:, [1]]) # 2x1\n",
    "print(m[[0], :]) # 1x4\n",
    "print(m[0, :]) # (4,)"
   ]
  },
  {
   "cell_type": "code",
   "execution_count": 62,
   "metadata": {},
   "outputs": [
    {
     "data": {
      "text/plain": [
       "tensor([1., 2., 3., 4.])"
      ]
     },
     "execution_count": 62,
     "metadata": {},
     "output_type": "execute_result"
    }
   ],
   "source": [
    "# Create a tensor of numbers 1 to 4\n",
    "v = torch.arange(1., 5)\n",
    "v"
   ]
  },
  {
   "cell_type": "code",
   "execution_count": 63,
   "metadata": {},
   "outputs": [
    {
     "data": {
      "text/plain": [
       "tensor([49., 47.])"
      ]
     },
     "execution_count": 63,
     "metadata": {},
     "output_type": "execute_result"
    }
   ],
   "source": [
    "# Scalar product\n",
    "m @ v"
   ]
  },
  {
   "cell_type": "code",
   "execution_count": 65,
   "metadata": {},
   "outputs": [
    {
     "data": {
      "text/plain": [
       "tensor([49.])"
      ]
     },
     "execution_count": 65,
     "metadata": {},
     "output_type": "execute_result"
    }
   ],
   "source": [
    "m[[0], :] @ v # first row of m times v"
   ]
  },
  {
   "cell_type": "code",
   "execution_count": 66,
   "metadata": {},
   "outputs": [
    {
     "data": {
      "text/plain": [
       "tensor([47.])"
      ]
     },
     "execution_count": 66,
     "metadata": {},
     "output_type": "execute_result"
    }
   ],
   "source": [
    "m[[1], :] @ v # second row of m times v"
   ]
  },
  {
   "cell_type": "code",
   "execution_count": 69,
   "metadata": {},
   "outputs": [
    {
     "data": {
      "text/plain": [
       "tensor([[2.6087, 5.9028, 3.9658, 7.0070],\n",
       "        [4.7257, 2.9559, 1.4302, 9.2309]])"
      ]
     },
     "execution_count": 69,
     "metadata": {},
     "output_type": "execute_result"
    }
   ],
   "source": [
    "m + torch.rand(2, 4) # addition is element-wise"
   ]
  },
  {
   "cell_type": "code",
   "execution_count": 70,
   "metadata": {},
   "outputs": [
    {
     "data": {
      "text/plain": [
       "tensor([[1.9807, 3.4817, 0.8297, 4.7201],\n",
       "        [1.3111, 1.7395, 0.0232, 3.3753]])"
      ]
     },
     "execution_count": 70,
     "metadata": {},
     "output_type": "execute_result"
    }
   ],
   "source": [
    "m * torch.rand(2, 4) # * multiplication is element-wise (Hadamard)"
   ]
  },
  {
   "cell_type": "code",
   "execution_count": 71,
   "metadata": {},
   "outputs": [
    {
     "data": {
      "text/plain": [
       "tensor([[ 4.1081,  7.9183,  3.2922, 18.0200],\n",
       "        [27.6282,  2.6558,  1.6958,  9.5385]])"
      ]
     },
     "execution_count": 71,
     "metadata": {},
     "output_type": "execute_result"
    }
   ],
   "source": [
    "m / torch.rand(2, 4) # division is Hadamard as well"
   ]
  },
  {
   "cell_type": "code",
   "execution_count": 72,
   "metadata": {},
   "outputs": [
    {
     "data": {
      "text/plain": [
       "torch.Size([2, 4])"
      ]
     },
     "execution_count": 72,
     "metadata": {},
     "output_type": "execute_result"
    }
   ],
   "source": [
    "m.size()"
   ]
  },
  {
   "cell_type": "code",
   "execution_count": 73,
   "metadata": {},
   "outputs": [
    {
     "data": {
      "text/plain": [
       "tensor([[2., 4.],\n",
       "        [5., 2.],\n",
       "        [3., 1.],\n",
       "        [7., 9.]])"
      ]
     },
     "execution_count": 73,
     "metadata": {},
     "output_type": "execute_result"
    }
   ],
   "source": [
    "# Transpose \n",
    "m.t()"
   ]
  },
  {
   "cell_type": "code",
   "execution_count": 74,
   "metadata": {},
   "outputs": [
    {
     "data": {
      "text/plain": [
       "tensor([[2., 4.],\n",
       "        [5., 2.],\n",
       "        [3., 1.],\n",
       "        [7., 9.]])"
      ]
     },
     "execution_count": 74,
     "metadata": {},
     "output_type": "execute_result"
    }
   ],
   "source": [
    "# Equivalently\n",
    "m.transpose(0, 1)"
   ]
  },
  {
   "cell_type": "code",
   "execution_count": 75,
   "metadata": {},
   "outputs": [
    {
     "data": {
      "text/plain": [
       "tensor([3., 4., 5., 6., 7., 8.])"
      ]
     },
     "execution_count": 75,
     "metadata": {},
     "output_type": "execute_result"
    }
   ],
   "source": [
    "# Using ranges to create tensors\n",
    "torch.arange(3., 9)"
   ]
  },
  {
   "cell_type": "code",
   "execution_count": 76,
   "metadata": {},
   "outputs": [
    {
     "data": {
      "text/plain": [
       "tensor([ 5.7000,  2.7000, -0.3000])"
      ]
     },
     "execution_count": 76,
     "metadata": {},
     "output_type": "execute_result"
    }
   ],
   "source": [
    "torch.arange(5.7, -2.1, -3)"
   ]
  },
  {
   "cell_type": "code",
   "execution_count": 77,
   "metadata": {},
   "outputs": [
    {
     "data": {
      "text/plain": [
       "tensor([3.0000, 3.2632, 3.5263, 3.7895, 4.0526, 4.3158, 4.5789, 4.8421, 5.1053,\n",
       "        5.3684, 5.6316, 5.8947, 6.1579, 6.4211, 6.6842, 6.9474, 7.2105, 7.4737,\n",
       "        7.7368, 8.0000])"
      ]
     },
     "execution_count": 77,
     "metadata": {},
     "output_type": "execute_result"
    }
   ],
   "source": [
    "torch.linspace(3, 8, 20) # shape of (20,)"
   ]
  },
  {
   "cell_type": "code",
   "execution_count": 79,
   "metadata": {},
   "outputs": [
    {
     "data": {
      "text/plain": [
       "tensor([[3.0000, 3.2632, 3.5263, 3.7895, 4.0526, 4.3158, 4.5789, 4.8421, 5.1053,\n",
       "         5.3684, 5.6316, 5.8947, 6.1579, 6.4211, 6.6842, 6.9474, 7.2105, 7.4737,\n",
       "         7.7368, 8.0000]])"
      ]
     },
     "execution_count": 79,
     "metadata": {},
     "output_type": "execute_result"
    }
   ],
   "source": [
    "torch.linspace(3, 8, 20).view(1, -1) # shape of 1x20"
   ]
  },
  {
   "cell_type": "code",
   "execution_count": 81,
   "metadata": {},
   "outputs": [
    {
     "data": {
      "text/plain": [
       "tensor([[0., 0., 0., 0., 0.],\n",
       "        [0., 0., 0., 0., 0.],\n",
       "        [0., 0., 0., 0., 0.]])"
      ]
     },
     "execution_count": 81,
     "metadata": {},
     "output_type": "execute_result"
    }
   ],
   "source": [
    "# Create a zero matrix\n",
    "torch.zeros(3, 5)"
   ]
  },
  {
   "cell_type": "code",
   "execution_count": 82,
   "metadata": {},
   "outputs": [
    {
     "data": {
      "text/plain": [
       "tensor([[[1., 1., 1., 1., 1.],\n",
       "         [1., 1., 1., 1., 1.]],\n",
       "\n",
       "        [[1., 1., 1., 1., 1.],\n",
       "         [1., 1., 1., 1., 1.]],\n",
       "\n",
       "        [[1., 1., 1., 1., 1.],\n",
       "         [1., 1., 1., 1., 1.]]])"
      ]
     },
     "execution_count": 82,
     "metadata": {},
     "output_type": "execute_result"
    }
   ],
   "source": [
    "# Create a ones tensor\n",
    "torch.ones(3, 2, 5)"
   ]
  },
  {
   "cell_type": "code",
   "execution_count": 83,
   "metadata": {},
   "outputs": [
    {
     "data": {
      "text/plain": [
       "tensor([[1., 0., 0.],\n",
       "        [0., 1., 0.],\n",
       "        [0., 0., 1.]])"
      ]
     },
     "execution_count": 83,
     "metadata": {},
     "output_type": "execute_result"
    }
   ],
   "source": [
    "# Create identity matrix\n",
    "torch.eye(3)"
   ]
  },
  {
   "cell_type": "code",
   "execution_count": 86,
   "metadata": {},
   "outputs": [
    {
     "data": {
      "text/plain": [
       "(array([ 1.,  0.,  1.,  1.,  0.,  1.,  0.,  0.,  0.,  1.,  1.,  1.,  0.,\n",
       "         1.,  2.,  1.,  0.,  3.,  5.,  3.,  0., 12.,  8.,  2.,  4., 11.,\n",
       "         8., 10., 11., 11., 18., 15., 10., 15.,  8., 19., 17., 15., 18.,\n",
       "        18., 24., 24., 23., 23., 20., 23., 32., 23., 23., 28., 30., 29.,\n",
       "        24., 26., 24., 23., 31., 20., 29., 26., 16., 17., 15., 16., 24.,\n",
       "        10., 18.,  9., 15., 11.,  8.,  5., 14.,  6., 10.,  6.,  3.,  3.,\n",
       "         2.,  4.,  6.,  5.,  1.,  3.,  1.,  3.,  3.,  2.,  1.,  0.,  1.,\n",
       "         0.,  2.,  0.,  0.,  0.,  1.,  1.,  0.,  1.]),\n",
       " array([-3.238835  , -3.1738396 , -3.1088443 , -3.0438488 , -2.9788532 ,\n",
       "        -2.913858  , -2.8488624 , -2.7838671 , -2.7188716 , -2.653876  ,\n",
       "        -2.5888808 , -2.5238853 , -2.4588897 , -2.3938944 , -2.328899  ,\n",
       "        -2.2639034 , -2.198908  , -2.1339126 , -2.068917  , -2.0039217 ,\n",
       "        -1.9389262 , -1.8739308 , -1.8089354 , -1.74394   , -1.6789445 ,\n",
       "        -1.6139491 , -1.5489537 , -1.4839581 , -1.4189627 , -1.3539673 ,\n",
       "        -1.2889719 , -1.2239764 , -1.158981  , -1.0939856 , -1.02899   ,\n",
       "        -0.9639946 , -0.8989992 , -0.83400375, -0.76900834, -0.7040129 ,\n",
       "        -0.63901746, -0.574022  , -0.5090265 , -0.44403112, -0.37903568,\n",
       "        -0.31404024, -0.24904479, -0.18404935, -0.11905391, -0.05405847,\n",
       "         0.01093698,  0.07593241,  0.14092785,  0.2059233 ,  0.27091873,\n",
       "         0.3359142 ,  0.40090963,  0.46590507,  0.5309005 ,  0.59589595,\n",
       "         0.6608914 ,  0.7258868 ,  0.7908823 ,  0.8558777 ,  0.92087317,\n",
       "         0.9858686 ,  1.050864  ,  1.1158595 ,  1.1808549 ,  1.2458503 ,\n",
       "         1.3108459 ,  1.3758413 ,  1.4408367 ,  1.5058321 ,  1.5708276 ,\n",
       "         1.635823  ,  1.7008184 ,  1.765814  ,  1.8308094 ,  1.8958048 ,\n",
       "         1.9608002 ,  2.0257957 ,  2.090791  ,  2.1557865 ,  2.220782  ,\n",
       "         2.2857773 ,  2.3507729 ,  2.4157684 ,  2.4807637 ,  2.5457592 ,\n",
       "         2.6107547 ,  2.67575   ,  2.7407455 ,  2.805741  ,  2.8707364 ,\n",
       "         2.935732  ,  3.0007272 ,  3.0657227 ,  3.1307182 ,  3.1957135 ,\n",
       "         3.260709  ], dtype=float32),\n",
       " <BarContainer object of 100 artists>)"
      ]
     },
     "execution_count": 86,
     "metadata": {},
     "output_type": "execute_result"
    },
    {
     "data": {
      "image/png": "[encoded data removed]",
      "text/plain": [
       "<Figure size 432x288 with 1 Axes>"
      ]
     },
     "metadata": {
      "needs_background": "light"
     },
     "output_type": "display_data"
    }
   ],
   "source": [
    "# Set default plots\n",
    "# from res.plot_lib import set_default\n",
    "from matplotlib import pyplot as plt\n",
    "# set_default()\n",
    "\n",
    "# Sample from standard normal\n",
    "plt.hist(torch.randn(1000).numpy(), 100)"
   ]
  },
  {
   "cell_type": "code",
   "execution_count": 87,
   "metadata": {},
   "outputs": [
    {
     "data": {
      "text/plain": [
       "(array([2.0000e+00, 0.0000e+00, 1.0000e+00, 4.0000e+00, 0.0000e+00,\n",
       "        7.0000e+00, 6.0000e+00, 8.0000e+00, 2.7000e+01, 2.2000e+01,\n",
       "        2.2000e+01, 2.8000e+01, 6.1000e+01, 8.4000e+01, 1.1000e+02,\n",
       "        1.2900e+02, 2.0500e+02, 2.6900e+02, 3.9500e+02, 5.0000e+02,\n",
       "        6.7000e+02, 8.7100e+02, 1.1820e+03, 1.4440e+03, 1.8390e+03,\n",
       "        2.4330e+03, 2.8500e+03, 3.6320e+03, 4.3860e+03, 5.3920e+03,\n",
       "        6.3020e+03, 7.7060e+03, 8.9740e+03, 1.0468e+04, 1.2185e+04,\n",
       "        1.4039e+04, 1.5867e+04, 1.7874e+04, 2.0264e+04, 2.2313e+04,\n",
       "        2.4654e+04, 2.6788e+04, 2.8744e+04, 3.0859e+04, 3.2652e+04,\n",
       "        3.4371e+04, 3.5887e+04, 3.6543e+04, 3.7569e+04, 3.8185e+04,\n",
       "        3.8437e+04, 3.8098e+04, 3.7274e+04, 3.6383e+04, 3.5203e+04,\n",
       "        3.3526e+04, 3.2062e+04, 3.0115e+04, 2.8062e+04, 2.5823e+04,\n",
       "        2.3627e+04, 2.1208e+04, 1.9168e+04, 1.7038e+04, 1.5109e+04,\n",
       "        1.3311e+04, 1.1469e+04, 9.7540e+03, 8.4180e+03, 7.1070e+03,\n",
       "        5.8000e+03, 4.9570e+03, 4.0380e+03, 3.3180e+03, 2.7000e+03,\n",
       "        2.1020e+03, 1.6550e+03, 1.2840e+03, 1.0720e+03, 7.6800e+02,\n",
       "        5.7200e+02, 5.1200e+02, 3.5700e+02, 2.3300e+02, 1.7700e+02,\n",
       "        1.4300e+02, 7.6000e+01, 5.7000e+01, 5.5000e+01, 3.0000e+01,\n",
       "        2.5000e+01, 1.5000e+01, 1.5000e+01, 1.0000e+01, 8.0000e+00,\n",
       "        3.0000e+00, 1.0000e+00, 0.0000e+00, 1.0000e+00, 1.0000e+00]),\n",
       " array([-4.8061094 , -4.71054   , -4.6149707 , -4.519401  , -4.4238315 ,\n",
       "        -4.3282623 , -4.2326927 , -4.137123  , -4.0415535 , -3.9459844 ,\n",
       "        -3.8504148 , -3.7548454 , -3.6592758 , -3.5637064 , -3.468137  ,\n",
       "        -3.3725674 , -3.276998  , -3.1814287 , -3.085859  , -2.9902897 ,\n",
       "        -2.89472   , -2.7991507 , -2.7035813 , -2.6080117 , -2.5124424 ,\n",
       "        -2.416873  , -2.3213034 , -2.225734  , -2.1301644 , -2.034595  ,\n",
       "        -1.9390255 , -1.843456  , -1.7478867 , -1.6523172 , -1.5567477 ,\n",
       "        -1.4611782 , -1.3656088 , -1.2700393 , -1.1744698 , -1.0789003 ,\n",
       "        -0.9833309 , -0.8877615 , -0.792192  , -0.69662255, -0.60105306,\n",
       "        -0.5054836 , -0.40991414, -0.31434467, -0.21877521, -0.12320575,\n",
       "        -0.02763629,  0.06793317,  0.16350263,  0.2590721 ,  0.35464156,\n",
       "         0.45021102,  0.5457805 ,  0.64135   ,  0.7369194 ,  0.8324889 ,\n",
       "         0.9280583 ,  1.0236278 ,  1.1191972 ,  1.2147667 ,  1.3103362 ,\n",
       "         1.4059056 ,  1.5014751 ,  1.5970446 ,  1.6926141 ,  1.7881835 ,\n",
       "         1.883753  ,  1.9793224 ,  2.0748918 ,  2.1704614 ,  2.2660308 ,\n",
       "         2.3616004 ,  2.4571698 ,  2.5527391 ,  2.6483088 ,  2.7438781 ,\n",
       "         2.8394475 ,  2.935017  ,  3.0305865 ,  3.126156  ,  3.2217255 ,\n",
       "         3.3172948 ,  3.4128644 ,  3.5084338 ,  3.6040032 ,  3.6995728 ,\n",
       "         3.7951422 ,  3.8907118 ,  3.9862812 ,  4.0818505 ,  4.17742   ,\n",
       "         4.2729897 ,  4.368559  ,  4.4641285 ,  4.559698  ,  4.6552672 ,\n",
       "         4.750837  ], dtype=float32),\n",
       " <BarContainer object of 100 artists>)"
      ]
     },
     "execution_count": 87,
     "metadata": {},
     "output_type": "execute_result"
    },
    {
     "data": {
      "image/png": "[encoded data removed]",
      "text/plain": [
       "<Figure size 432x288 with 1 Axes>"
      ]
     },
     "metadata": {
      "needs_background": "light"
     },
     "output_type": "display_data"
    }
   ],
   "source": [
    "plt.hist(torch.randn(10**6).numpy(), 100)"
   ]
  },
  {
   "cell_type": "markdown",
   "metadata": {},
   "source": [
    "## Casting shapes"
   ]
  },
  {
   "cell_type": "code",
   "execution_count": 88,
   "metadata": {},
   "outputs": [
    {
     "data": {
      "text/plain": [
       "tensor([[2., 5., 3., 7.],\n",
       "        [4., 2., 1., 9.]])"
      ]
     },
     "execution_count": 88,
     "metadata": {},
     "output_type": "execute_result"
    }
   ],
   "source": [
    "m"
   ]
  },
  {
   "cell_type": "code",
   "execution_count": 90,
   "metadata": {},
   "outputs": [
    {
     "data": {
      "text/plain": [
       "tensor([[2., 5., 3., 7.],\n",
       "        [4., 2., 1., 9.]], dtype=torch.float64)"
      ]
     },
     "execution_count": 90,
     "metadata": {},
     "output_type": "execute_result"
    }
   ],
   "source": [
    "# Cast m to double type (float64)\n",
    "m_double = m.double()\n",
    "m_double"
   ]
  },
  {
   "cell_type": "code",
   "execution_count": 91,
   "metadata": {},
   "outputs": [
    {
     "data": {
      "text/plain": [
       "tensor([[2, 5, 3, 7],\n",
       "        [4, 2, 1, 9]], dtype=torch.uint8)"
      ]
     },
     "execution_count": 91,
     "metadata": {},
     "output_type": "execute_result"
    }
   ],
   "source": [
    "# Cast to byte type (uint8)\n",
    "m_byte = m.byte()\n",
    "m_byte"
   ]
  },
  {
   "cell_type": "code",
   "execution_count": 92,
   "metadata": {},
   "outputs": [
    {
     "data": {
      "text/plain": [
       "tensor([[2., 5., 3., 7.],\n",
       "        [4., 2., 1., 9.]])"
      ]
     },
     "execution_count": 92,
     "metadata": {},
     "output_type": "execute_result"
    }
   ],
   "source": [
    "# Assign tensor computation to GPU if available\n",
    "device = torch.device(\"cuda:0\" if torch.cuda.is_available() else \"cpu\")\n",
    "m.to(device)"
   ]
  },
  {
   "cell_type": "code",
   "execution_count": 93,
   "metadata": {},
   "outputs": [
    {
     "data": {
      "text/plain": [
       "array([[2., 5., 3., 7.],\n",
       "       [4., 2., 1., 9.]], dtype=float32)"
      ]
     },
     "execution_count": 93,
     "metadata": {},
     "output_type": "execute_result"
    }
   ],
   "source": [
    "# Convert tensor to numpy\n",
    "m_np = m.numpy()\n",
    "m_np"
   ]
  },
  {
   "cell_type": "code",
   "execution_count": 94,
   "metadata": {},
   "outputs": [
    {
     "data": {
      "text/plain": [
       "array([[-1.,  5.,  3.,  7.],\n",
       "       [ 4.,  2.,  1.,  9.]], dtype=float32)"
      ]
     },
     "execution_count": 94,
     "metadata": {},
     "output_type": "execute_result"
    }
   ],
   "source": [
    "# Element assignment, in-place, by indexing\n",
    "m_np[0, 0] = -1\n",
    "m_np"
   ]
  },
  {
   "cell_type": "code",
   "execution_count": 95,
   "metadata": {},
   "outputs": [
    {
     "data": {
      "text/plain": [
       "tensor([[-1.,  5.,  3.,  7.],\n",
       "        [ 4.,  2.,  1.,  9.]])"
      ]
     },
     "execution_count": 95,
     "metadata": {},
     "output_type": "execute_result"
    }
   ],
   "source": [
    "m"
   ]
  },
  {
   "cell_type": "code",
   "execution_count": 100,
   "metadata": {},
   "outputs": [
    {
     "name": "stdout",
     "output_type": "stream",
     "text": [
      "[0 1 2 3 4] tensor([0, 1, 2, 3, 4])\n"
     ]
    }
   ],
   "source": [
    "import numpy as np\n",
    "\n",
    "# Convert numpy to tensor\n",
    "n_np = np.arange(5)\n",
    "n = torch.from_numpy(n_np)\n",
    "print(n_np, n)"
   ]
  },
  {
   "cell_type": "code",
   "execution_count": 101,
   "metadata": {},
   "outputs": [
    {
     "data": {
      "text/plain": [
       "array([0, 2, 4, 6, 8])"
      ]
     },
     "execution_count": 101,
     "metadata": {},
     "output_type": "execute_result"
    }
   ],
   "source": [
    "# In-place multiplication of a tensor affects the numpy array it came from\n",
    "n.mul_(2)\n",
    "n_np"
   ]
  },
  {
   "cell_type": "code",
   "execution_count": 102,
   "metadata": {},
   "outputs": [
    {
     "name": "stdout",
     "output_type": "stream",
     "text": [
      "torch.Size([1, 4]) tensor([[5., 6., 7., 8.]])\n"
     ]
    }
   ],
   "source": [
    "# Creates two tensor of size 1x4\n",
    "a = torch.Tensor([[1, 2, 3, 4]])\n",
    "b = torch.Tensor([[5, 6, 7, 8]])\n",
    "print(a.size(), b)"
   ]
  },
  {
   "cell_type": "code",
   "execution_count": 103,
   "metadata": {},
   "outputs": [
    {
     "data": {
      "text/plain": [
       "tensor([[1., 2., 3., 4., 5., 6., 7., 8.]])"
      ]
     },
     "execution_count": 103,
     "metadata": {},
     "output_type": "execute_result"
    }
   ],
   "source": [
    "torch.cat((a,b), 1)"
   ]
  },
  {
   "cell_type": "code",
   "execution_count": null,
   "metadata": {},
   "outputs": [],
   "source": []
  }
 ],
 "metadata": {
  "kernelspec": {
   "display_name": "Python [conda env:ml] *",
   "language": "python",
   "name": "conda-env-ml-py"
  },
  "language_info": {
   "codemirror_mode": {
    "name": "ipython",
    "version": 3
   },
   "file_extension": ".py",
   "mimetype": "text/x-python",
   "name": "python",
   "nbconvert_exporter": "python",
   "pygments_lexer": "ipython3",
   "version": "3.7.8"
  }
 },
 "nbformat": 4,
 "nbformat_minor": 4
}
